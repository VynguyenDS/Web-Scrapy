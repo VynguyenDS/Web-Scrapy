{
 "cells": [
  {
   "cell_type": "code",
   "execution_count": 1,
   "metadata": {
    "id": "5kJBunRyxZ_6"
   },
   "outputs": [],
   "source": [
    "from urllib.request import urlopen\n",
    "from bs4 import BeautifulSoup\n",
    "import re\n",
    "import datetime\n",
    "import tqdm\n",
    "import random\n",
    "import requests\n",
    "import numpy as np\n",
    "import pandas as pd\n",
    "import requests"
   ]
  },
  {
   "cell_type": "code",
   "execution_count": 2,
   "metadata": {
    "id": "XwBFbOIqxpg2"
   },
   "outputs": [],
   "source": [
    "\n",
    "class Content:\n",
    "    def __init__(self, url, title, price, square, district, datePost, linkDescription, detailDesciption):\n",
    "        self.url = url\n",
    "        self.title = title\n",
    "        self.price = price\n",
    "        self.square = square\n",
    "        self.district = district\n",
    "        self.datePost= datePost \n",
    "        self.linkDescription = linkDescription\n",
    "        self.detailDesciption = detailDesciption\n",
    "\n",
    "class Website:\n",
    "    def __init__(self, name, url, titleTag, priceTag, squareTag, districtTag, datePost, linkDescriptionTag, detailDesciptionTag):\n",
    "        self.name = name\n",
    "        self.url = url\n",
    "        self.titleTag = titleTag\n",
    "        self.priceTag = priceTag\n",
    "        self.squareTag = squareTag\n",
    "        self.districtTag = districtTag\n",
    "        self.datePost = datePost\n",
    "        self.linkDescriptionTag = linkDescriptionTag\n",
    "        self.detailDesciptionTag = detailDesciptionTag \n",
    "class Crawler:\n",
    "    # Requests to Websites to accept crawl data\n",
    "    def getPage(self, url):\n",
    "        try:\n",
    "            req = requests.get(url)\n",
    "        except requests.exceptions.RequestException:\n",
    "            return None\n",
    "        return BeautifulSoup(req.text, 'html.parser')\n",
    "    # select tag for Website\n",
    "    def link_description(self, url, pageDescription, selector):\n",
    "        try:\n",
    "            req = requests.get(url+\"{}\".format(pageDescription))\n",
    "\n",
    "        except requests.exceptions.RequestException:\n",
    "            return None\n",
    "        bs = BeautifulSoup(req.text, 'html.parser')\n",
    "        return ' '.join([i.get_text() for i in bs.select(selector)])\n",
    "    def safeGet(self, pageObj, selector):\n",
    "        selectedElems = pageObj.select(selector)\n",
    "        if selectedElems is not None and len(selectedElems) > 0:\n",
    "            data = []\n",
    "            for elem in selectedElems:             \n",
    "                if elem.name == 'div' or elem.name == 'p' or elem.name == 'ul' or elem.name == 'li' or  elem.name == 'h3' or elem.name == 'h2' or elem.name == 'h4' or elem.name == 'time' or elem.name =='span':\n",
    "                    data.append(elem.get_text())\n",
    "                elif elem.name == 'a':\n",
    "                    # pageDescription\n",
    "                    data.append(elem.get('href'))\n",
    "                if elem.name == 'img' :\n",
    "                    data.append(elem.get('data-src'))\n",
    "            return data\n",
    "        return ''\n",
    "    # Result data \n",
    "    def parse(self, site, url):\n",
    "        bs = self.getPage(url)\n",
    "        if bs is not None:\n",
    "            title = self.safeGet(bs, site.titleTag)\n",
    "            price = self.safeGet(bs, site.priceTag)\n",
    "            square = self.safeGet(bs, site.squareTag)\n",
    "            district = self.safeGet(bs, site.districtTag)\n",
    "            datePost = self.safeGet(bs, site.datePost)\n",
    "            linkDescription = self.safeGet(bs, site.linkDescriptionTag)\n",
    "\n",
    "            detailDesciption = [self.link_description(site.url, link.replace(site.url,''), site.detailDesciptionTag) for link in linkDescription]\n",
    "\n",
    "\n",
    "        if title != '' and price != '' and square != '' and district != '' and datePost != '' and linkDescription != '' and detailDesciption != '':\n",
    "            content = Content(url, title, price, square, district, datePost, linkDescription, detailDesciption)\n",
    "           \n",
    "            return content\n",
    "        else:\n",
    "            print(\"please recheck elements from {}\".format(url))\n",
    "            return ''\n",
    "  "
   ]
  },
  {
   "cell_type": "code",
   "execution_count": 3,
   "metadata": {
    "id": "Zllw98Uzxfb2"
   },
   "outputs": [],
   "source": [
    "crawler = Crawler()\n",
    "\n",
    "siteData = [\n",
    "    ['Meey Land', # name \n",
    "     'https://meeyland.com', # url\n",
    "     'div.card-title h3', # titleTag\n",
    "     'div.article-price', # priceTag\n",
    "     'div.article-info-detail-item.no-wrap.items-center.icon-area',# squareTag\n",
    "     'div.article-info-location', #districtTag\n",
    "     'div.no-wrap.items-center.chip-content-footer.icon-date', # datePost\n",
    "     'div.card-head-img a[href]', # linkDescriptionTag\n",
    "     'div.des-detail.ml-text-14 div' # detailDesciptionTag\n",
    "    ],\n",
    "    [\n",
    "        'Mogi',# name \n",
    "        'https://mogi.vn', # url\n",
    "        'ul.props h2.prop-title', # titleTag\n",
    "        'ul.props div.price', #price Tag\n",
    "        'ul.props ul.prop-attr li:first-child', # square \n",
    "        'ul.props div.prop-addr', # district Tag\n",
    "        'ul.props div.prop-created', # datePost,\n",
    "        'ul.props div.prop-info a.link-overlay[href]', #linkDescription,\n",
    "        'div.info-content-body' # detailDescription         \n",
    "    ],\n",
    "    [\n",
    "        'phongtro213',# name \n",
    "        'https://phongtro123.com/', # url\n",
    "        'ul.post-listing.clearfix h4.post-title', # titleTag\n",
    "        'ul.post-listing.clearfix span.post-price', #price Tag\n",
    "        'ul.post-listing.clearfix span.post-acreage', # square \n",
    "        'ul.post-listing.clearfix span.post-location', # district Tag\n",
    "        'ul.post-listing.clearfix time.post-time', # datePost,\n",
    "        'ul.post-listing.clearfix li.post-item.clearfix.tin-vip a[href]', #linkDescription,\n",
    "        'div.section-content' # detailDescription         \n",
    "    ]\n",
    "    \n",
    "    \n",
    "    \n",
    "]\n"
   ]
  },
  {
   "cell_type": "code",
   "execution_count": 4,
   "metadata": {
    "id": "epdIIxTCxguz"
   },
   "outputs": [],
   "source": [
    "websites = []\n",
    "for row in siteData:\n",
    "    websites.append(Website(row[0], row[1], row[2], row[3],row[4],row[5], row[6], row[7], row[8]))"
   ]
  },
  {
   "cell_type": "code",
   "execution_count": 39,
   "metadata": {
    "colab": {
     "base_uri": "https://localhost:8080/"
    },
    "id": "Xz-KrNc2xh-s",
    "outputId": "796d6ad6-b2df-4471-eb0f-646014bb26a5"
   },
   "outputs": [
    {
     "name": "stdout",
     "output_type": "stream",
     "text": [
      "7\n",
      "please recheck elements from https://phongtro123.com/tinh-thanh/ho-chi-minh/quan-7?gia=3\n",
      "please recheck elements from https://phongtro123.com/tinh-thanh/ho-chi-minh/quan-7?gia=3&page=2\n"
     ]
    }
   ],
   "source": [
    "def multipage(websites, urlPage, tag, numberPage):\n",
    "    crawler = Crawler()\n",
    "    data = []\n",
    "    for num in range(1,numberPage):\n",
    "        if num == 1:\n",
    "            \n",
    "            data.append(crawler.parse(websites, urlPage))\n",
    "        else:\n",
    "            page = crawler.parse(websites, urlPage+tag.format(str(num)))\n",
    "            if page != '':\n",
    "                data.append(page)\n",
    "                print(data)\n",
    "            else:\n",
    "                break;\n",
    "    return data     \n",
    "mogiData = []\n",
    "district = [7]\n",
    "for i in district:\n",
    "    print(i)\n",
    "    urlPage = \"https://phongtro123.com/tinh-thanh/ho-chi-minh/quan-{}?gia=3\".format(i)\n",
    "    tag = '&page={}'\n",
    "    numberPage = 10\n",
    "    mogiData.append(multipage(websites[2], urlPage, tag,numberPage))        \n",
    "\n",
    "# titleTag = [] \n",
    "# priceTag = []\n",
    "# squareTag = []\n",
    "# districtTag = []\n",
    "# datePostTag = []\n",
    "# linkDescriptionTag = []\n",
    "# detailDescriptionTag = []\n",
    "# imgTag = []\n",
    "# for page in mogiData:\n",
    "#     for i in page:\n",
    "#         titleTag.append(i.title)\n",
    "#         priceTag.append(i.price)\n",
    "#         squareTag.append(i.square)\n",
    "#         districtTag.append(i.district)\n",
    "#         datePostTag.append(i.datePost)\n",
    "#         linkDescriptionTag.append(i.linkDescription)\n",
    "# #         imgTag.append(i.image)\n",
    "#         detailDescriptionTag.append(i.detailDesciption)\n",
    "    "
   ]
  },
  {
   "cell_type": "code",
   "execution_count": 6,
   "metadata": {},
   "outputs": [
    {
     "name": "stderr",
     "output_type": "stream",
     "text": [
      "\r",
      "  0%|          | 0/20 [00:00<?, ?it/s]"
     ]
    },
    {
     "name": "stdout",
     "output_type": "stream",
     "text": [
      "https://mogi.vn/thue-phong-tro-nha-tro?cp=0\n"
     ]
    },
    {
     "name": "stderr",
     "output_type": "stream",
     "text": [
      "\r",
      "  5%|▌         | 1/20 [00:05<01:52,  5.90s/it]"
     ]
    },
    {
     "name": "stdout",
     "output_type": "stream",
     "text": [
      "https://mogi.vn/thue-phong-tro-nha-tro?cp=1\n"
     ]
    },
    {
     "name": "stderr",
     "output_type": "stream",
     "text": [
      "\r",
      " 10%|█         | 2/20 [00:09<01:26,  4.81s/it]"
     ]
    },
    {
     "name": "stdout",
     "output_type": "stream",
     "text": [
      "https://mogi.vn/thue-phong-tro-nha-tro?cp=2\n"
     ]
    },
    {
     "name": "stderr",
     "output_type": "stream",
     "text": [
      "\r",
      " 15%|█▌        | 3/20 [00:13<01:14,  4.36s/it]"
     ]
    },
    {
     "name": "stdout",
     "output_type": "stream",
     "text": [
      "https://mogi.vn/thue-phong-tro-nha-tro?cp=3\n"
     ]
    },
    {
     "name": "stderr",
     "output_type": "stream",
     "text": [
      "\r",
      " 20%|██        | 4/20 [00:17<01:05,  4.12s/it]"
     ]
    },
    {
     "name": "stdout",
     "output_type": "stream",
     "text": [
      "https://mogi.vn/thue-phong-tro-nha-tro?cp=4\n"
     ]
    },
    {
     "name": "stderr",
     "output_type": "stream",
     "text": [
      "\r",
      " 25%|██▌       | 5/20 [00:21<00:59,  3.99s/it]"
     ]
    },
    {
     "name": "stdout",
     "output_type": "stream",
     "text": [
      "https://mogi.vn/thue-phong-tro-nha-tro?cp=5\n"
     ]
    },
    {
     "name": "stderr",
     "output_type": "stream",
     "text": [
      "\r",
      " 30%|███       | 6/20 [00:28<01:10,  5.07s/it]"
     ]
    },
    {
     "name": "stdout",
     "output_type": "stream",
     "text": [
      "https://mogi.vn/thue-phong-tro-nha-tro?cp=6\n"
     ]
    },
    {
     "name": "stderr",
     "output_type": "stream",
     "text": [
      "\r",
      " 35%|███▌      | 7/20 [00:32<01:00,  4.62s/it]"
     ]
    },
    {
     "name": "stdout",
     "output_type": "stream",
     "text": [
      "https://mogi.vn/thue-phong-tro-nha-tro?cp=7\n"
     ]
    },
    {
     "name": "stderr",
     "output_type": "stream",
     "text": [
      "\r",
      " 40%|████      | 8/20 [00:35<00:51,  4.33s/it]"
     ]
    },
    {
     "name": "stdout",
     "output_type": "stream",
     "text": [
      "https://mogi.vn/thue-phong-tro-nha-tro?cp=8\n"
     ]
    },
    {
     "name": "stderr",
     "output_type": "stream",
     "text": [
      "\r",
      " 45%|████▌     | 9/20 [00:39<00:45,  4.16s/it]"
     ]
    },
    {
     "name": "stdout",
     "output_type": "stream",
     "text": [
      "https://mogi.vn/thue-phong-tro-nha-tro?cp=9\n"
     ]
    },
    {
     "name": "stderr",
     "output_type": "stream",
     "text": [
      "\r",
      " 50%|█████     | 10/20 [00:43<00:40,  4.07s/it]"
     ]
    },
    {
     "name": "stdout",
     "output_type": "stream",
     "text": [
      "https://mogi.vn/thue-phong-tro-nha-tro?cp=10\n"
     ]
    },
    {
     "name": "stderr",
     "output_type": "stream",
     "text": [
      "\r",
      " 55%|█████▌    | 11/20 [00:47<00:36,  4.03s/it]"
     ]
    },
    {
     "name": "stdout",
     "output_type": "stream",
     "text": [
      "https://mogi.vn/thue-phong-tro-nha-tro?cp=11\n"
     ]
    },
    {
     "name": "stderr",
     "output_type": "stream",
     "text": [
      "\r",
      " 60%|██████    | 12/20 [00:51<00:33,  4.14s/it]"
     ]
    },
    {
     "name": "stdout",
     "output_type": "stream",
     "text": [
      "https://mogi.vn/thue-phong-tro-nha-tro?cp=12\n"
     ]
    },
    {
     "name": "stderr",
     "output_type": "stream",
     "text": [
      "\r",
      " 65%|██████▌   | 13/20 [00:55<00:28,  4.06s/it]"
     ]
    },
    {
     "name": "stdout",
     "output_type": "stream",
     "text": [
      "https://mogi.vn/thue-phong-tro-nha-tro?cp=13\n"
     ]
    },
    {
     "name": "stderr",
     "output_type": "stream",
     "text": [
      "\r",
      " 70%|███████   | 14/20 [00:59<00:23,  3.99s/it]"
     ]
    },
    {
     "name": "stdout",
     "output_type": "stream",
     "text": [
      "https://mogi.vn/thue-phong-tro-nha-tro?cp=14\n"
     ]
    },
    {
     "name": "stderr",
     "output_type": "stream",
     "text": [
      "\r",
      " 75%|███████▌  | 15/20 [01:03<00:19,  3.91s/it]"
     ]
    },
    {
     "name": "stdout",
     "output_type": "stream",
     "text": [
      "https://mogi.vn/thue-phong-tro-nha-tro?cp=15\n"
     ]
    },
    {
     "name": "stderr",
     "output_type": "stream",
     "text": [
      "\r",
      " 80%|████████  | 16/20 [01:07<00:15,  3.90s/it]"
     ]
    },
    {
     "name": "stdout",
     "output_type": "stream",
     "text": [
      "https://mogi.vn/thue-phong-tro-nha-tro?cp=16\n"
     ]
    },
    {
     "name": "stderr",
     "output_type": "stream",
     "text": [
      "\r",
      " 85%|████████▌ | 17/20 [01:11<00:12,  4.15s/it]"
     ]
    },
    {
     "name": "stdout",
     "output_type": "stream",
     "text": [
      "https://mogi.vn/thue-phong-tro-nha-tro?cp=17\n"
     ]
    },
    {
     "name": "stderr",
     "output_type": "stream",
     "text": [
      "\r",
      " 90%|█████████ | 18/20 [01:15<00:08,  4.05s/it]"
     ]
    },
    {
     "name": "stdout",
     "output_type": "stream",
     "text": [
      "https://mogi.vn/thue-phong-tro-nha-tro?cp=18\n"
     ]
    },
    {
     "name": "stderr",
     "output_type": "stream",
     "text": [
      "\r",
      " 95%|█████████▌| 19/20 [01:19<00:03,  3.97s/it]"
     ]
    },
    {
     "name": "stdout",
     "output_type": "stream",
     "text": [
      "https://mogi.vn/thue-phong-tro-nha-tro?cp=19\n"
     ]
    },
    {
     "name": "stderr",
     "output_type": "stream",
     "text": [
      "100%|██████████| 20/20 [01:23<00:00,  4.17s/it]\n"
     ]
    }
   ],
   "source": [
    "from tqdm import tqdm\n",
    "  \n",
    "  \n",
    "crawler = Crawler()\n",
    "websites[2]\n",
    "data = []\n",
    "for i in tqdm(range(int(20))):\n",
    "    print('https://mogi.vn/thue-phong-tro-nha-tro?cp={}'.format(i))\n",
    "    data.append(crawler.parse(websites[1], 'https://mogi.vn/thue-phong-tro-nha-tro?cp={}'.format(i)))"
   ]
  },
  {
   "cell_type": "code",
   "execution_count": 13,
   "metadata": {},
   "outputs": [
    {
     "name": "stdout",
     "output_type": "stream",
     "text": [
      "['🏢Khai trương Phòng Phú Nhuận Full NT có bồn tắm siêu đẹp,ban công🌟', '🏢Khai trương Siêu phẩm Phòng Tân Bình có bồn tắm siêu đẹp,ban công🌟', '🏢Khai trương Siêu phẩm Phòng Quận 1 có bồn tắm siêu đẹp, ban công🌟', '🏢Khai trương Siêu phẩm Phòng Quận 11 có bồn tắm siêu đẹp, ban công🌟', '🏢Khai trương Siêu phẩm Phòng Quận 5 có bồn tắm siêu đẹp, ban công🌟', '🏢Khai trương Siêu phẩm Phòng Quận 3 có bồn tắm siêu đẹp, ban công🌟', '🏢Khai trương Siêu phẩm Phòng  Quận 10 có bồn tắm siêu đẹp, ban công🌟', 'Phòng cao cấp 3 sao, máy giặt riêng, gần cầu Công Lý Q.3, KM lớn T.6', 'Phòng cao cấp chuẩn căn hộ, Nguyễn Văn Trỗi, 5 phút đi sân bay', 'Phòng cho thuê có máy lạnh, hẻm ô tô, giờ tự do, Hồ Văn Huê', '⁉️Phòng trọ cao cấp giá sinh viên _ nội thất đầy đủ ⁉️', 'Phòng trọ giá rẻ quận 10 full nội thất, gần tô hiến thành, cv thị riên', '?Khai Trương phòng trọ_Nguyễn Văn Khối_Trường cao đẳng Miền Nam_GIÁTỐT', 'Cho thuê căn hộ cao cấp Phạm Văn Xão_Vườn Lài_Quận Tân Phú_GIÁ TỐT', 'Phòng Trọ có ban công Âu Cơ_gần Bệnh Viện Quận Tân Phú_Full Nội Thất']\n",
      "['🏢Khai trương Phòng Phú Nhuận Full NT có bồn tắm siêu đẹp,ban công🌟', '🏢Khai trương Siêu phẩm Phòng Tân Bình có bồn tắm siêu đẹp,ban công🌟', '🏢Khai trương Siêu phẩm Phòng Quận 1 có bồn tắm siêu đẹp, ban công🌟', '🏢Khai trương Siêu phẩm Phòng Quận 11 có bồn tắm siêu đẹp, ban công🌟', '🏢Khai trương Siêu phẩm Phòng Quận 5 có bồn tắm siêu đẹp, ban công🌟', '🏢Khai trương Siêu phẩm Phòng Quận 3 có bồn tắm siêu đẹp, ban công🌟', '🏢Khai trương Siêu phẩm Phòng  Quận 10 có bồn tắm siêu đẹp, ban công🌟', 'Phòng cao cấp 3 sao, máy giặt riêng, gần cầu Công Lý Q.3, KM lớn T.6', 'Phòng cao cấp chuẩn căn hộ, Nguyễn Văn Trỗi, 5 phút đi sân bay', 'Phòng cho thuê có máy lạnh, hẻm ô tô, giờ tự do, Hồ Văn Huê', '⁉️Phòng trọ cao cấp giá sinh viên _ nội thất đầy đủ ⁉️', 'Phòng trọ giá rẻ quận 10 full nội thất, gần tô hiến thành, cv thị riên', '?Khai Trương phòng trọ_Nguyễn Văn Khối_Trường cao đẳng Miền Nam_GIÁTỐT', 'Cho thuê căn hộ cao cấp Phạm Văn Xão_Vườn Lài_Quận Tân Phú_GIÁ TỐT', 'Phòng Trọ có ban công Âu Cơ_gần Bệnh Viện Quận Tân Phú_Full Nội Thất']\n",
      "['Phòng trọ mới xây tại đường số 47 phường Thảo điền quận 2 giá 3tr', 'Phòng trọ Quận Tân Bình 35m² full nt gần co.op mới', '❄Phòng ĐẸP mới xây 100%⚡BAN CÔNG thoáng mát⚡tự do❄', 'Khai trương phòng mới nhất giá rẻ thoáng mát bancon sát lotte quận 7', 'P 2.7 tr giảm còn 2.2 tr,  full NT, có máy lạnh, ban công', 'Cho Thuê Phòng Trọ Lũy bán bích_Thoại Ngoc Hầu_ĐạiHọc Văn Hiến_GIÁTỐT', '💥Phòng Cao Cấp MỚI TINH Cạnh CC La Casa Quận 7', '⭐ Phòng Mới, Gác Gỗ Xinh, Full Nội Thất, gần C.Viên Văn Hóa. P6, GV', 'Mới 100%, Gần ĐH Mở, đi Sân Bay TSN nhanh, Full Nội Thất, có Ban Công', 'Cho Thuê Phòng Q10.21m2 nội thất cơ bản giá 3tr3', 'Khai Trương Phòng Gác, mới 100%, công viên làng hoa, chợ Thạch Đà 2tr9', 'Cho Thuê Phòng Trần Đình Xu Q1.giá 2triệu và 3triệu.', 'Cho Thuê Phòng Q1.15m2 fuff nội thất giá 2tr8.', 'Cho Thuê Phòng Q3.thiết kế 2 phòng ngủ 30m2.giá 3tr8', 'Cho Thuê Phòng Q3.18m2 có máy lạnh,máy giặt 2tr6 và 2tr8.']\n",
      "['💢Cho thuê Phòng trọ giá sinh viên _ nội thất, dịch vụ như căn hộ 💯💯', 'Căn hộ mini rất đẹp HXH Tân Sơn Nhì, 1PN 1PK, Có Thang Máy, Máy Lạnh', 'Cho thuê phòng siêu đẹp khu Biệt Thự HXH Đs 53 Phạm Văn Chiêu, P.14 GV', 'Phòng trọ cao cấp mới xây SIÊU HOT tại Đảo Kim Cương', 'Còn Duy Nhất 1 phòng trọ còn trống giá 2tr8 ở Tân Phú', 'Q.7, CC HAGL chân cầu kinh tẻ, phòng riêng hay ở ghép đủ tiện nghi', 'Q.7,CC HAGL Ngay ĐH Tôn Đức Thắng, Rmit, Phú Mỹ HưngP.Riêng 3,2 TR/Thá', 'MINI HOME, đẹp rẻ an toàn mùa dịch', 'Cho thuê phòng mini giá rẻ Phan Tây Hồ-Phú Nhuận', 'Phòng trọ Trường Chinh - Cộng Hòa Tân Bình gác cao 1m8, giờ giấc tự do', 'Phòng trọ Cộng Hòa Tân Bình giờ giấc tự do, gác cao 1m8, máy lạnh', 'Cho thuê phòng 25m2,có bancong, Cạnh Vincom, Emart Phan Văn Trị', '🌈 Ưu đãi mùa COVID - Phòng tiện nghi mới xây gần Etown Cộng Hoà', '🎁🎁 Tặng quà_ Phòng dịch vụ tiện nghi_ 30m2 Full nội thất ĐH Văn Lang', 'Phòng Trọ Rất đẹp: Máy lạnh + Tủ Lạnh, máy giặt, Gác lửng + kệ bếp....']\n",
      "['PHÒNG TRỌ RẤT ĐẸP, có gác rộng, tủ bếp, tolet riêng, gần LOTTE Q.7', 'PHÒNG TRỌ CÒN THƠM MÙI SƠN: có gác + bếp, giờ tự do, Không thu phí xe', 'PHÒNG MỚI 100% Sang Trọng, nội thất cao cấp, có Máy Lạnh, Tủ, Gác, Bếp', 'Căn hộ dịch vụ có gác cực chill - ĐINH BỘ LĨNH cách BXMĐ 200m đi bộ', 'Phòng trọ ban công giá siêu rẻ ngay Lotte mart', '🌈 [ Chính chủ ] CHDV khai trương ngay công viên Làng Hoa, SV Văn Lang', '🌈 [ Chính chủ] Khai trương phòng dịch vụ ngay CV Làng Hoa Gò Vấp', 'Phòng Trọ Rất Rộng 35m2 và sạch đẹp, có gác lửng, vô trung tâm chỉ 10p', 'Phòng Trọ Mới Xây 100%, đẹp như mơ, có gác lửng, WC riêng, giờ tự do', 'Ký túc Xá Máy lạnh Q.1 giá chỉ 1300k/tháng bao điện nước', '🌈 Tặng Free 15 ngày tiền nhà 📗 Phòng DV ngay Chợ Tân Hương mới 100%', 'phòng trọ hiện đại sạch sẽ thoáng mát đường Cách Mạng Tháng 8', 'Phòng trọ ban công cửa sổ, gần khu chế xuất Tân Thuận', 'PHÒNG TRỌ MỚI XÂY 100% ĐẸP NHƯ MƠ, rất rộng, có gác, bếp, Xe miễn phí', 'Phòng trọ mới xây 100% đẹp lung linh, có gác, bếp, giờ tự do gần AEON']\n",
      "['Ký túc xá cao cấp giá 450k /tháng đẹp như khách sạn', '🌈 Ưu đãi mùa COVID - Phòng dịch vụ mới 100% giá TỐT gần Lotte Mart', 'Phòng trọ mới xây đẹp, CÓ GÁC, KỆ BẾP, giờ giấc thoải mái tự do', 'Phòng đang xây mới lại: CÓ GÁC LỬNG, NỘI THẤT ĐẦY ĐỦ, ngay LOTTE Q.7', 'CĂN HỘ - Phòng trọ rất đẹp, rất rộng 50m2, Máy Lạnh, Ban Công, Tủ Bếp.', 'Phòng trọ mới tinh mùi sơn, CÓ GÁC, MÁY LẠNH, gần AEON Tân Phú', 'Kí túc xá chỉ 700k trọn gói, ko ngập nước, ko kẹt xe ở Bình Thạnh', 'PHòng mới bốc tem, free điện nước, thang máy, Quang Trung giao Tân Sơn', '⚛️⚛️⚛️ Phòng Cao Cấp, Full Nội Thất Tiện Nghi, Ngay Ung Văn Khiêm, BT', \"✨✨Căn Hộ Balcony Rộng 35m2 - 5' Đi NTĐ Phú Thọ- TÔ HIẾN THÀNH✨✨\", 'PHòng cao cấp đủ tiện nghi giá siêu rẻ khai trương, Âu Cơ - Phú Trung', '🏬🏬🏬 Phòng Cao Cấp Full Nội Thất 😍, Ngay LOTTE QUẬN 7', 'Phòng cho thuê giá rẻ có máy lạnh, cửa sổ Quận 10 đường Hùng Vương', '❇️❇️❇️ Căn Hộ Mini, Full Nội Thất Giá Cực TỐT. Ngay D2 BÌNH THẠNH', 'Căn Hộ Balcony SIÊU HÓT Mới 100% - THÀNH THÁI Gần CoopMart Lữ Gia🌞🌞']\n",
      "['Phòng tiện nghi cửa sổ ngay Chợ Tân Mỹ', \"🌼🌼Phòng Xinh Xắn Full Tiện Nghi - 3' Đến ĐH SƯ PHẠM Quận 3🌼🌼\", 'Phòng cho thuê, mới xây, giờ tự do, máy giặt, thang máy, Hồ Văn Huê', 'Phòng Ban Công Xinh Xắn. Full Nội Thất ĐIỆN BIÊN PHỦ Bình Thạnh.', 'Cho thuê phòng 1PN cao cấp Tân Bình, full nội thất,nhà sạch sẽ an ninh', \"Còn Duy Nhất 1 Căn  Full Nội ThấtHỒ THỊ KỶ - 4' Đi ĐH Sài Gòn Quận 5\", 'Phòng Trọ Kênh Tân Hóa_giá bình dân_gần Đầm Sen', 'Căn hộ CÓ GÁC Đẹp , Tiện Nghi đường D1 Quận Bình Thạnh', 'Phòng Trọ Tây Thạnh_giá bình dân_gần Đại Học Công nghệ Thực Phẩm TPHCM', 'Căn hộ gác lửng , full nội thất ngay Hàng Xanh', '🌻🌻Căn Hộ FULL NỘI THẤT, Ngay BV NGUYỄN TRI PHƯƠNG Quận 5 🌻🌻', 'PHòng mới xây, hẻm ô tô, Nam Kỳ Khởi Nghĩa, FREE ĐIỆN, KM hấp dẫn', 'Căn hộ Mini siêu đẹp, đường NGUYỄN VĂN LINH, gần BIG C Nguyễn Thị Thập', 'Phòng Đẹp Full Tiện Nghi Giá RẼ - Lạc Long Quân Q.11 Gần CV ĐẦM SEN', 'Phòng cho thuê có máy lạnh nội thất ngay Tô Ngọc Vân Thủ Đức']\n",
      "['Khai Trương Căn Hộ Mới 100% Ngay Cống Quỳnh_Nguyễn Thị Minh Khai_Quân1', 'Phòng cho thuê có nội thất giá rẻ', '🌷🌷Căn Hộ Gác Lửng – BẮC HẢI, Ngay ĐH Bách Khoa Quận 10', 'PHÒNG TRỌ Kênh Tân Hóa_Đầm Sen_Hòa Bình_Lũy Bán Bích_Full Nội Thất', 'Cho thuê phòng trọ đầy đủ nội thất quận 5, nhà sạch sẽ-an ninh', 'Phòng Cao Cấp -LẠC LỌNG QUÂN Gần Chợ TÂN BÌNH, Bảo Vệ 24h', 'Căn hộ mini CÓ GÁC đường Ung Văn Khiêm Quận Bình Thạnh', 'Phòng Nữ Ghép - khu Đô Thị An Phú - gần Cầu Sài Gòn 1,6 triệu', 'Cho Thuê PHÒNG TRỌ Thân Nhân Trung_Cộng Hòa_Nhất Chí Mai_KCN Tân Bình', '🌻🌻BÓC TEM Phòng Đẹp Full Nội Thất- KHU NHÀ BÈ Quận 7 🌻🌻', 'Căn hộ Studio full nội thất Quận 3, cửa sổ ban công thoáng mát', '💥💥💥BÓC TEM Căn Hồ Gác Lững Full Nội Thất - XVNT, Ngay CV. THANH ĐA', 'Duplex Mới Tinh, Gần Lê Văn Việt ❌ Lã Xuân Oai', 'Phòng đẹp cho thuê quận Tân Phú', '🌿 Phòng Cao Cấp NEW 1000% - Ngay CoopMart Huỳnh Tấn Phát']\n",
      "['Cho thuê phòng mới xây 100% Phan Huy Ích - Quận Gò Vấp Giáp Tân Bình', 'Phòng có gác nội thất cơ bản cạnh khu công nghệ cao', '✨✨Phòng Đẹp – BAN CÔNG – New 100%, Full Nội Thất, PHÚ MỸ HƯNG Q7', 'Phòng full nội thất giá rẻ Gò Vấp, khu yên tĩnh-an ninh-bảo vệ 24/24', 'Căn Hộ Cao Cấp Full Nội Thất - LÊ ĐẠI HÀNH, Ngay Trường Đùa PHÚ THỌ', 'Cho thuê phòng mới xây 100% Phan Huy Ích - Quận Tân Bình Giáp Gò Vấp', 'Studio có nội thất cơ bản ngay sau GIGAMALL', '🍁Căn Hộ Ban Công Siêu Thoáng, Nội Thất Xịn Sò Ngay Tô Hiến Thành🍁', 'Phòng ban công, có gác mới tinh nằm trên đường Cộng Hoà', 'Phòng rộng 35m2 full nội thất ngay trường Bách Khoa', 'Cho thuê Căn hộ mini cao cấp ngay trung tâm quận 1', 'Căn Hộ studio MỚI XÂY Trường Sơn – Gần Ngay CV. LÊ THỊ RIÊNG Quân 3', 'Phòng mới xây, ban công đầy đủ tiện nghi Huỳnh Văn Nghệ Quận Tân Bình', 'Studio Có Nội Thất Mới Tinh Ngay Lê Văn Việt', '🌞🌞Căn Hộ Full Tiện Nghi - PHAN XÍCH LONG, Gần Ngã 4 PHÚ NHUẬN']\n",
      "['Phòng mới xây có kệ bếp riêng, ban công Điện Biên Phủ - Quận 3', 'Phòng sang trọng, mới toanh, free điện thang máy👉Phan HUy Ích Tân Sơn', 'Phòng Cao Cấp Full NT Ngay Đường Nguyễn Trãi,Gần Chợ Bến Thành Quận 1', 'Căn Hộ Cao Cấp Mới Xây New 100%. Ngay Ngã 4 Hàng Xanh BÌNH THẠNH', 'Duplex nội thất cơ bản đầy đủ nằm ngay Hoàng Hoa Thám, Cộng Hoà', 'Phòng rộng thoáng, mới toanh, thang máy, hầm xe ✅Phạm Văn Chiêu', 'Căn Hộ Full Tiện Nghi - LÊ ĐẠI HÀNH, Gần Coop Mart Lữ Gia', 'Phòng Full nội thất mới 100% giá rẻ có cửa sổ lớn ban công gần trường', 'PHòng cao cấp tuyệt đẹp giá rẻ cho văn phòng,💥Nguyễn Kiệm phường 3 GV', 'Căn hộ studio nằm ngay trên Điện Biên Phủ', 'Phòng mới 100%, thang máy, free điện, Lê Văn Thọ gần Hạnh Thông Tây', 'Phòng trọ tiện nghi , giá tốt tại 142/44 Nguyễn thị thập', 'Phòng mới xây, giờ tự do, có máy giặt, hẻm ô tô Phan Xích Long', '⚡⚡⚡ Căn Hộ Cao Cấp Full Tiện Nghi - TÔ HIẾN THÀNH Q10 Gần ĐH BÁCH KHOA', '!Cho thuê trọ Âu Cơ_Khuông Việt_Lũy Bán Bích_Full Nội Thất_Quận 11']\n",
      "['Còn 1 phòng, giờ tự do, máy giặt, 5 ngày free trãi nghiệm Nguyễn Kiệm', 'Còn 1 phòng ban công duy nhất đường Bình Long,Bình Tân có gác mới 100%', 'Phòng có gác nằm ngay Nguyễn Văn Quá, Gò Vấp', 'Phòng Cao Cấp Full NT,Ngay Nguyễn Trãi Quận 1,Gần Bùi Viện', 'Cho Thuê Trọ 1PN Nhất Trí Mai_E - Town 2_ Cộng Hòa_KCN Tân Bình', '*Cho Thuê Căn Hộ GIÁ TỐT Bình Long_Lê Niệm_Nguyễn Sơn_Thạch Lam', 'Phòng 4x4m ngay đường số 24b. P btđ B quận bình tân Sát đường 19', 'Phòng cao cấp chuẩn căn hộ💯cho thuê ngắn hạn, Phan Xích Long', '💥💥💥 Căn Hộ 1PN 1PK Riêng Biệt - PHAN XÍCH LONG, Gần BV HOÀN MỸ', 'Studio 💢 FULL NỘI THẤT 💢 ngay Ngã tư Bình Thái - Thủ Đức', 'Phòng trọ giá rẻ quận Tân Bình', 'Phòng mini thoáng mát giá cực rẻ cho sinh viên, cầu chợ Cầu 2, Tân Sơn', \"🍂Căn Hộ Giá Hạt Dẻ - 5' Đi BigC Miền Đông, Bảo Vệ 24h-Quận 10🍂\", '🏦🏦🏦 CHDV Gác Lững Cao Cấp - Đường D5, Ngay ĐH NGOẠI THƯƠNG. BT', 'Phòng đẹp ngay công viên quận Tân Bình']\n",
      "['!?!?!Cho thuê Trọ Âu Cơ_Khuông Việt_Lũy Bán Bích_Full Nội Thất_Quận 11', '⚡⚡⚡ Phòng Full Nôi Thất Cửa Sổ Lớn - ĐIỆN BIÊN PHỦ, Ngay ĐH HUTECH', 'Studio Full Nội Thất💢💢Cạnh Lê Văn Việt, Khu công nghệ cao', 'Căn Hộ Gác Lững Cực Thoáng, Máy Giặc Riêng - Ngay Cầu CÔNG LÝ Q.3', 'Phòng có gác ❌Mới Tinh ❌Cạnh Ngã Tư Thủ Đức', 'Phòng cao cấp chuẩn căn hộ, ban công lớn, Hồ Văn Huê giá sinh viên', \"Căn Hộ Cao Cấp Full Nội Thất - Đường D2, 5' Đi ĐH HUTECH. Bình Thạnh\", 'CHUNG CƯ MINI/ PHÒNG TRỌ SINH VIÊN  ☝️ Địa chỉ : Trường Chinh. Tân Bì', '❌ Phòng mới tinh tinh❌ Full Nội Thất❌ Lê Đức Thọ', 'Phòng trọ ban công_Bạch đằng_SânBay_CV Gia Định_Rẻ', 'Phòng mới xây ban công lớn, giá siêu rẻ Tân Sơn giao Quang Trung', 'Căn Hộ Cao Cấp, Bảo Vệ 24/24 - Ngay Trường Quốc Tế ĐÀI LOAN', 'Hệ Thống Phòng trọ cho thuê có gác và kệ bếp Tại Phạm Văn Bạch -', '🌻🌻Phòng Đầy Đủ Tiện Nghi - GÁC LỬNG, Gần Đại Học Bách Khoa🌻🌻', 'Phòng thoáng mát, thang máy, FREE Điện, Cây Trâm Phường 8, giá KM']\n",
      "['Căn Hộ Cao Cấp Máy Giặc Riêng - NAM KỲ KHỞI NGHĨA. Ngay Cầu CÔNG LÝ', 'Phòng trọ có gác mới xây tại quận 2', 'PHÒNG TRỌ ban công_Bạch đằng_SânBay_CV Gia Định_Rẻ', 'Phòng ban công lớn mới xây, thang máy, Điện Biên Phủ Hutech, giá KM', 'Bóc Tem Căn Hộ Cao Cấp, Full Ánh Sáng - Ngay Trường GIAO THÔNG VẬN TẢI', 'Căn Hộ Ban Công View Cực Xinh Ngay Công Viên Lê Thị Riêng', 'Phòng mới xây lung linh chỉ cho sinh viên thuê giá rẻ D5 phường 25', '🎀🎀Căn Hộ Mini, Thiết Kế Tre Trung Hiện Đại. Ngay Trung Tâm Phú Nhuận', '🌻 Khai trương phòng trọ mới xây tại Cộng Hoà , Tân Bình', 'Phòng đẹp cho thuê trung tâm Quận 10', 'Phòng Trọ Đường A4 Tân Bình_K300_Cộng Hòa_Trường Chinh_Hoàng Hoa Thám', 'Phòng mới xây giá KM khủng T.12 Xô Viết Nghệ Tĩnh, ngã 4 Hàng Xanh', '📢📢📢 Căn Hộ Full Nội Thất ĐẸP, Gần Ngay Nhà Thờ 3 CHUÔNG. PHú NHUẬN', '🍀Căn Hộ Ban Công View Đẹp Gần CoopMart Lữ Gia - Quận 11🍀', '🏦🏦🏦 BÓC TEM, Phòng MỚI XÂY,💯💯💯  Ngay Ung Văn Khiêm, BÌNH THẠNH']\n",
      "['Phòng Trọ Nguyễn Hữu Tiến_trường đại học Công Nghệ Thực Phẩm_giá rẻ', 'Phòng có gác giá rẻ cho sinh viên, văn phòng Phan Huy Ích Phường 12', '🌈🌈🌈 Căn Hộ Cao Cấp , Ngay Khu Phố Ẩm Thực PHAN XÍCH LONG Cực Thoáng', '🌠CHO THUÊ PHÒNG NỘI THẤT MỚI HOÀN TOÀN 🌠Cách bệnh viện quận 2 chỉ 30', 'Cho thuê phòng trọ Trịnh Đình Trọng_giá sinh viên_nội thất cơ bản', '🍁 Siêu Phẩm Căn Hộ Ban Công Q1 – Gần ĐH Sài Gòn🍁', 'Phòng cao cấp, giờ tự do, máy giặt, FREE Điện, Nguyễn KIệm Hồ Văn Huê', '🌻🌻 Căn Hộ Mới Xây – HUỲNH TẤN PHÁT, Gần Chợ PHÚ THUẬN Q.7🌻🌻', 'Phòng tiện nghi, thang máy, bảo vệ, KM TẾT khủng, Lý Thường Kiệt Q.10', 'Phòng Cao Cấp Full NT Ngay Nguyễn Trãi Quận 1, Gần Chợ Bến Thành', '🌟🌟 Phòng Cao Cấp Ngay Trung Tâm Quận 1- NGUYỄN TRÃI 🌟🌟', 'Căn Hộ Cao Cấp Full Nội Thất, Gần ĐH. SƯ PHẠM Quận 3 Giá Chỉ 5.5Tr', 'Căn Hộ Sang Trọng Đẳng Cấp – Ngay Coop Mart Nhiêu Lộc Q3', 'Căn Hộ Full Nội Thất . Ngay BỜ KÈ Trường Sa, Gần CoopMart Nhiêu Lộc.', 'Khai trương trọ cao cấp_Bạch Đằng_Hồng Hà_Sân Bay_Công viên GiaĐịnh']\n",
      "['✨✨Căn Hộ Full Nội Thất - LÊ VĂN SỸ, Ngay Kênh NHIÊU LỘC Q.3✨✨', '💥Khai Trương Phòng Trọ Studio ban công ngay Sân Bay_Tân Bình_GIÁ RẺ💥', 'Phòng tiện nghi mới xây, FRee 5 ngày trải nghiệm Lê Văn Sỹ', '⚜️⚜️⚜️Căn Hộ Cao Cấp Ban Công Cực Thoáng - Gần Cầu LÊ VĂN SỸ,  Quận 3', 'Căn Hộ Cao Cấp, Nội Thất Gỗ - LÝ THƯỜNG KIỆT, Đối Diện NTD Phú Thọ', \"BÓC TEM Phòng Mới Xây Mới 100% - 5' Đến ĐH CÔNG NGHIỆP GÒ Vấp\", '🍁 Căn Hộ Cao Cấp New 100% - Gần Cầu LÊ VĂN SỸ Quận 3 🍁', 'Căn Hộ Cao Cấp Mới Xây New 100%. Ngay Cv. 23 Tháng 9 LÊ LAI. Q1', 'Phòng đầy đủ tiện nghi ngay đường Ba Tháng Hai Quận 10 xách vali vô ở', 'Phòng trọ Bình Gĩa sẵn máy lanh_Etown Cộng Hòa_cầu vượt Hoàng Hoa Thám', '💥💥Căn Hộ Studio Full Tiện Nghi - Đón Nắng Sớm Lê Văn Sỹ Quận 3', 'PHòng tiện nghi, hẻm ô tô, máy giặt, giờ tự do, KM TẾT, Hồ Văn Huê', 'Căn Hộ Full Nội Thất, Mới Toanh PHAN XÍCH LONG - Gần Ngã Tư PHÚ NHUẬN', 'Phòng trọ giá tốt mới 100% có gác siêu rộng 🥳🥳', 'Căn Hộ Ban Công Full Nội Thất – Lê Văn Sỹ Gần Chợ NGUYỄN VĂN TRỖI Q3']\n",
      "['Phòng ĐẸP Full Nội Thất Cực Thoáng - Ngay Khu CÔNG NGHIỆP TÂN BÌNH', 'Cho thuê phòng mới xây 100% có cửa sổ Nguyễn Văn Quá Quận 12', 'PHòng đủ tiện nghi, thang máy, free điện, Phạm Văn Chiêu Quang Trung', \"Căn Hộ Cao Cấp Full Nội Thất - LÝ THƯỜNG KIỆT, 5' Đi Vạn Hạnh MAll\", 'Phòng Trọ Văn Chung gần_Hoàng Hoa Thám_Lotte Cộng Hòa_Etown_Tân Bình', '🔥🔥Phòng Full Sáng - Ngay LÂM VĂN BỀN Gần Chung Cư Mỹ Phú', 'Phòng cao cấp mới toanh, thang máy, máy giặt Phạm Văn Chiêu Gò Vấp', 'Căn Hộ Cao Cấp 2PN Cực Thoáng - LÊ VĂN SỸ, Ngay CoopMart NHIÊU  LỘC', 'Cho Thuê PHÒNG TRỌ Bạch Đằng_Đặng Văn Sâm_Trường Bay_CV Gia Định_GòVap', \"🔥🔥Căn Hộ Sang Trọng Ban Công Lộng Gió- 3 Tháng 2, 5' Đi HUFLIT\", 'Phòng NEW100% full nội thất Studio 1PN balcon Bùi Văn Thêm Phú Nhuận', 'Phòng cao cấp chuẩn căn hộ, giá KHai Trương cực sốc, Mỹ Đức Hồ Văn Huê', 'Phòng Mới Xây Có Gác Ngay Âu Cơ Quận Tân Phú Giá Chỉ 3tr5/Tháng', 'Căn Hộ Mini Mới Xây Full Nội Thất - NGUYỄN TRÃI, Ngay ĐH. SÀI GÒN', 'Căn Hộ Ban Công Cực Xinh Full Tiện Nghi Ngay Cầu Vượt 3/2⭐⭐']\n",
      "['Khai trương phòng new full nội thất - bancol - Ngay trung tâm quận 10', '🏬🏬🏬 Căn Hộ Mới Xây,Chưa Ai Bóc TEM, New 100%. Ngay ĐH HUTECH, BT', 'BÓC TEM Căn Hộ Mini Full Nội Thất - Đường 3/2, Gần Ngay NTĐ PHÚ THỌ', '🍁BÓC TEM Phòng Mới 100%, Full NỘi Thất – HUỲNH TẤN PHÁT Quận 7🍁', \"💥💥💥Căn Hộ Xinh Lung Linh, 5' Tới ĐH NGOẠI THƯƠNG, Giá Hấp Dẫn\", '🍃Phòng Cao Cấp Giá Rẻ NEW 100% 3’ Đi Đại Học Kinh Tế', 'Khai Trương TRỌ MỚI GÍA TỐT banconl_Hòa Bình_Tô Hiệu_Full nội thất', \"🌻🌻Căn Hộ Gác Lửng – XÔ VIẾT NGHỆ TĨNH , 5' Đi ĐH. Hutech🌻🌻\", '🌺🌺🌺 Căn Hộ MiNi, Thiết Kế Độc Đáo, Gần Chợ NGUYỄN VĂN TRỖI. Quận 3', 'Phòng trọ 1 lầu đúc siêu rộng ở chân cầu Bình Lợi', '🎁🎁🎁 Phòng Đẹp, Mới Xây Chưa ai BÓC TEM, Gần ĐH. SƯ PHẠM , Quận 5', '!Cho thuê Phòng Trọ _Kênh Tân Hóa_Âu Cơ_Khuông Việt_Lũy Bán Bích_Mới', \"🌞🌞Căn Hộ Gác Lửng Đón Gió Trời - Đường D2, 5' Đi Bộ Qua HUTECH\", 'Phòng có ban công full nội thất Văn Cao Tân Phú', 'Căn Hộ Đẳng Cấp Sang Trọng - Ngay Khu Phố Tây BÙI VIỆN Quận 1']\n",
      "['Phòng mới xây Hoàng Hoa Thám gần cầu vượt', 'Căn Hộ Ban Công Cao Cấp - Tự Do Giờ Giấc, 2’ Đi ĐH Bách Khoa', 'Phòng rộng có nội thất Trường Chinh Tân Bình', '🌈🌈🌈 Phòng Cao Cấp, New 100%  Giá Cực Hấp Dẫn, Gần ĐH. Sài Gòn Q5', 'Phòng mới xây Hoàng Hoa Thám gần cầu vượt', '🍀Căn Hộ Balcony Gác Lửng Siêu Xinh - Bảo Vệ 24/24 🍀🍀', 'Cho thuê Phòng studio ,1 PN, có nội thất đầy đủ tại Đường Đỗ Bí, Lê N', 'Cho thuê phòng trọ hẻm 184/12E lê đình cẩn, p. Tân tạo quận Bình Tân', '🎀Phòng Gác Lững Cao Cấp, LÝ THƯỜNG KIỆT - Gần ĐH. BÁCH KHOA Quận 10🎀', 'Căn Hộ Gác Lửng Full Nội Thất – NAM KỲ KHỞI NGHĨA Quận 3', 'Phòng 2,5tr-3t/ tháng có máy lạnh tủ lạnh đủ nội thất', 'Phòng (Đẹp) Tiện Nghi Giá Cực Hấp Dẫn, LÝ THƯỜNG KIỆT Gần ĐH Bách Khoa', 'kí túc xá giá rẻ tại bình thạnh', 'Phòng siêu xinh full nội thất  Bình Gĩa Tân Bình Gần Etown', 'Phòng Cao Cấp Gác Lững Mới Xây, Gần CV Đầm Sen - Kênh Tân Hòa Tân Phú']\n",
      "['KTX có máy lạnh cho thuê - Bình Thạnh 45m²', '🌟🌟Căn Hộ Máy Giặc Riêng - TÔ HIẾN THÀNH, Gần ĐH Bách Khoa🌟🌟', 'Phòng mới full nội thất rộng thoáng Rạch Bùng Binh Quận 3', 'Phòng mới Quận 7 giá rẻ chỉ từ 2,5tr ~ 3,5tr , Ở Ghép trọn gói 650k', 'Phòng Tân Phú_Duplex ban công❌Ngay chợ Tân Hương❌Nhà mới Full nội thất', 'Nhà trọ ký túc xá ngay mặt tiền - camera an ninh', 'Phòng giá rẻ Studio, Douplex đầy đủ tiện nghi đường Văn Chung-T.Bình', 'Siêu Rẻ KTX Cao Cấp giá 650K/Ng bao Điện, Nước ,Wifi tại Q7', '️🎯️🎯️🎯 Phòng Cao Cấp Máy Lạnh - Dương Quảng Hàm, Gần ĐH CÔNG NGHIỆP', 'phòng trọ ktx giá rẻ cho sinh viên và ae lao động phổ thông', 'Phòng trọ ở ghép sạch sẽ an ninh Quận Bình Thạnh', 'Phòng Cao Cấp Thoáng Mát - Dương Quảng Hàm, Gần ĐH CÔNG NGHIỆP', 'Phòng mới 100% full nội thất cửa sổ thoáng Hoàng Sa, Quận 1', 'kí túc xá rẻ và sạch có máy lạnh đảm bảo an toàn', \"🌞🌞Phòng Gác Lửng Đón Nắng , 5' Đi Đại Học HUTECH-BÌNH THẠNH\"]\n",
      "['️🎯️🎯️🎯 Phòng Cao Cấp Máy Lạnh - Dương Quảng Hàm, Gần ĐH CÔNG NGHIỆP', 'phòng trọ ktx giá rẻ cho sinh viên và ae lao động phổ thông', 'Phòng trọ ở ghép sạch sẽ an ninh Quận Bình Thạnh', 'Phòng Cao Cấp Thoáng Mát - Dương Quảng Hàm, Gần ĐH CÔNG NGHIỆP', 'Phòng mới 100% full nội thất cửa sổ thoáng Hoàng Sa, Quận 1', 'kí túc xá rẻ và sạch có máy lạnh đảm bảo an toàn', \"🌞🌞Phòng Gác Lửng Đón Nắng , 5' Đi Đại Học HUTECH-BÌNH THẠNH\", 'kí túc xá gần chợ dân sinh hướng thủ thiêm', '💥Phòng Gác Lửng, Bảo Vệ 24/24 Ngay DH Bách Khoa', 'Căn Hộ BAN CÔNG Full Nội Thất - LÝ CHÍNH THẮNG, Gần Cầu LÊ VĂN SỸ Q.3', 'KTX có máy lạnh cho thuê - Bình Thạnh 45m²', 'KTX cao cấp giá 700k/ giường tại 207 ngô tất tố bình thạnh', 'Phòng NEW100% FULL nội thất Huỳnh Văn Nghệ Tân Bình', 'Căn Hộ Cao Cấp Máy Giặc Riêng - TÔ HIẾN THÀNH, Gần CoopMart LỮ GIA', 'Phòng 40m2 có ban công cửa sổ thoáng mát gần Đầm Sen']\n"
     ]
    }
   ],
   "source": [
    "for page in data:\n",
    "    print(page.title)\n",
    "    "
   ]
  },
  {
   "cell_type": "code",
   "execution_count": 17,
   "metadata": {
    "colab": {
     "base_uri": "https://localhost:8080/"
    },
    "id": "BfIDf51MxjTb",
    "outputId": "e3f65179-7c06-4667-d904-3aae7302db36"
   },
   "outputs": [
    {
     "ename": "AttributeError",
     "evalue": "'str' object has no attribute 'price'",
     "output_type": "error",
     "traceback": [
      "\u001b[0;31m---------------------------------------------------------------------------\u001b[0m",
      "\u001b[0;31mAttributeError\u001b[0m                            Traceback (most recent call last)",
      "\u001b[0;32m<ipython-input-17-e1c907f263ca>\u001b[0m in \u001b[0;36m<module>\u001b[0;34m\u001b[0m\n\u001b[1;32m     28\u001b[0m     \u001b[0;32mreturn\u001b[0m \u001b[0mdata\u001b[0m\u001b[0;34m\u001b[0m\u001b[0;34m\u001b[0m\u001b[0m\n\u001b[1;32m     29\u001b[0m \u001b[0;34m\u001b[0m\u001b[0m\n\u001b[0;32m---> 30\u001b[0;31m \u001b[0mdata\u001b[0m \u001b[0;34m=\u001b[0m \u001b[0mdataframe\u001b[0m\u001b[0;34m(\u001b[0m\u001b[0mdata\u001b[0m\u001b[0;34m)\u001b[0m\u001b[0;34m\u001b[0m\u001b[0;34m\u001b[0m\u001b[0m\n\u001b[0m\u001b[1;32m     31\u001b[0m \u001b[0;31m# data = pd.DataFrame(data = data)\u001b[0m\u001b[0;34m\u001b[0m\u001b[0;34m\u001b[0m\u001b[0;34m\u001b[0m\u001b[0m\n",
      "\u001b[0;32m<ipython-input-17-e1c907f263ca>\u001b[0m in \u001b[0;36mdataframe\u001b[0;34m(data)\u001b[0m\n\u001b[1;32m     10\u001b[0m     \u001b[0;32mfor\u001b[0m \u001b[0mi\u001b[0m \u001b[0;32min\u001b[0m \u001b[0mdata\u001b[0m\u001b[0;34m:\u001b[0m\u001b[0;34m\u001b[0m\u001b[0;34m\u001b[0m\u001b[0m\n\u001b[1;32m     11\u001b[0m             \u001b[0mtitleTag\u001b[0m\u001b[0;34m.\u001b[0m\u001b[0mappend\u001b[0m\u001b[0;34m(\u001b[0m\u001b[0mi\u001b[0m\u001b[0;34m.\u001b[0m\u001b[0mtitle\u001b[0m\u001b[0;34m)\u001b[0m\u001b[0;34m\u001b[0m\u001b[0;34m\u001b[0m\u001b[0m\n\u001b[0;32m---> 12\u001b[0;31m             \u001b[0mpriceTag\u001b[0m\u001b[0;34m.\u001b[0m\u001b[0mappend\u001b[0m\u001b[0;34m(\u001b[0m\u001b[0mi\u001b[0m\u001b[0;34m.\u001b[0m\u001b[0mprice\u001b[0m\u001b[0;34m)\u001b[0m\u001b[0;34m\u001b[0m\u001b[0;34m\u001b[0m\u001b[0m\n\u001b[0m\u001b[1;32m     13\u001b[0m             \u001b[0msquareTag\u001b[0m\u001b[0;34m.\u001b[0m\u001b[0mappend\u001b[0m\u001b[0;34m(\u001b[0m\u001b[0mi\u001b[0m\u001b[0;34m.\u001b[0m\u001b[0msquare\u001b[0m\u001b[0;34m)\u001b[0m\u001b[0;34m\u001b[0m\u001b[0;34m\u001b[0m\u001b[0m\n\u001b[1;32m     14\u001b[0m             \u001b[0mdistrictTag\u001b[0m\u001b[0;34m.\u001b[0m\u001b[0mappend\u001b[0m\u001b[0;34m(\u001b[0m\u001b[0mi\u001b[0m\u001b[0;34m.\u001b[0m\u001b[0mdistrict\u001b[0m\u001b[0;34m)\u001b[0m\u001b[0;34m\u001b[0m\u001b[0;34m\u001b[0m\u001b[0m\n",
      "\u001b[0;31mAttributeError\u001b[0m: 'str' object has no attribute 'price'"
     ]
    }
   ],
   "source": [
    "\n",
    "def dataframe(data):\n",
    "    titleTag = [] \n",
    "    priceTag = []\n",
    "    squareTag = []\n",
    "    districtTag = []\n",
    "    datePostTag = []\n",
    "    linkDescriptionTag = []\n",
    "    detailDescriptionTag = []\n",
    "    imgTag = []\n",
    "    for i in data:\n",
    "            titleTag.append(i.title)\n",
    "            priceTag.append(i.price)\n",
    "            squareTag.append(i.square)\n",
    "            districtTag.append(i.district)\n",
    "            datePostTag.append(i.datePost)\n",
    "            linkDescriptionTag.append(i.linkDescription)\n",
    "            detailDescriptionTag.append(i.detailDesciption)\n",
    "            \n",
    "    data = {\"title\":sum(titleTag, []), \n",
    "            \"price\": sum(priceTag, []), \n",
    "            \"square\": sum(squareTag, []),\n",
    "            \"district\": sum(districtTag, []), \n",
    "            \"datePost\": sum(datePostTag, []),\n",
    "            \"linkDescription\": sum(linkDescriptionTag, []),\n",
    "            \"detailDescription\": sum(detailDescriptionTag, [])}\n",
    "    print(len(data['title']), len(data['price']), len(data['square']), len(data['district']), len(data['datePost']))\n",
    "    print(len(data['linkDescription']), len(data['detailDescription']))\n",
    "    return data\n",
    "\n",
    "data = dataframe(data)\n",
    "# data = pd.DataFrame(data = data)"
   ]
  },
  {
   "cell_type": "code",
   "execution_count": 23,
   "metadata": {},
   "outputs": [
    {
     "data": {
      "text/html": [
       "<div>\n",
       "<style scoped>\n",
       "    .dataframe tbody tr th:only-of-type {\n",
       "        vertical-align: middle;\n",
       "    }\n",
       "\n",
       "    .dataframe tbody tr th {\n",
       "        vertical-align: top;\n",
       "    }\n",
       "\n",
       "    .dataframe thead th {\n",
       "        text-align: right;\n",
       "    }\n",
       "</style>\n",
       "<table border=\"1\" class=\"dataframe\">\n",
       "  <thead>\n",
       "    <tr style=\"text-align: right;\">\n",
       "      <th></th>\n",
       "      <th>title</th>\n",
       "      <th>price</th>\n",
       "      <th>square</th>\n",
       "      <th>district</th>\n",
       "      <th>datePost</th>\n",
       "      <th>linkDescription</th>\n",
       "      <th>detailDescription</th>\n",
       "    </tr>\n",
       "  </thead>\n",
       "  <tbody>\n",
       "    <tr>\n",
       "      <th>0</th>\n",
       "      <td>🏢Khai trương Phòng Phú Nhuận Full NT có bồn tắ...</td>\n",
       "      <td>6 triệu</td>\n",
       "      <td>35 m2</td>\n",
       "      <td></td>\n",
       "      <td>Hôm nay</td>\n",
       "      <td>https://mogi.vn/quan-phu-nhuan/thue-phong-tro-...</td>\n",
       "      <td>🏢🏢🏢Khai trương Siêu phẩm Căn hộ đang hot Quận ...</td>\n",
       "    </tr>\n",
       "    <tr>\n",
       "      <th>1</th>\n",
       "      <td>🏢Khai trương Siêu phẩm Phòng Tân Bình có bồn t...</td>\n",
       "      <td>6 triệu</td>\n",
       "      <td>35 m2</td>\n",
       "      <td></td>\n",
       "      <td>Hôm nay</td>\n",
       "      <td>https://mogi.vn/quan-tan-binh/thue-phong-tro-k...</td>\n",
       "      <td>🏢🏢🏢Khai trương Siêu phẩm Căn hộ đang hot Quận ...</td>\n",
       "    </tr>\n",
       "    <tr>\n",
       "      <th>2</th>\n",
       "      <td>🏢Khai trương Siêu phẩm Phòng Quận 1 có bồn tắm...</td>\n",
       "      <td>6 triệu</td>\n",
       "      <td>35 m2</td>\n",
       "      <td></td>\n",
       "      <td>Hôm nay</td>\n",
       "      <td>https://mogi.vn/quan-1/thue-phong-tro-khu-nha-...</td>\n",
       "      <td>🏢🏢🏢Khai trương Siêu phẩm Căn hộ đang hot Quận ...</td>\n",
       "    </tr>\n",
       "    <tr>\n",
       "      <th>3</th>\n",
       "      <td>🏢Khai trương Siêu phẩm Phòng Quận 11 có bồn tắ...</td>\n",
       "      <td>6 triệu</td>\n",
       "      <td>35 m2</td>\n",
       "      <td></td>\n",
       "      <td>Hôm nay</td>\n",
       "      <td>https://mogi.vn/quan-11/thue-phong-tro-khu-nha...</td>\n",
       "      <td>🏢🏢🏢Khai trương Siêu phẩm Căn hộ đang hot Quận ...</td>\n",
       "    </tr>\n",
       "    <tr>\n",
       "      <th>4</th>\n",
       "      <td>🏢Khai trương Siêu phẩm Phòng Quận 5 có bồn tắm...</td>\n",
       "      <td>6 triệu</td>\n",
       "      <td>35 m2</td>\n",
       "      <td></td>\n",
       "      <td>Hôm nay</td>\n",
       "      <td>https://mogi.vn/quan-5/thue-phong-tro-khu-nha-...</td>\n",
       "      <td>🏢🏢🏢Khai trương Siêu phẩm Căn hộ đang hot Quận ...</td>\n",
       "    </tr>\n",
       "    <tr>\n",
       "      <th>...</th>\n",
       "      <td>...</td>\n",
       "      <td>...</td>\n",
       "      <td>...</td>\n",
       "      <td>...</td>\n",
       "      <td>...</td>\n",
       "      <td>...</td>\n",
       "      <td>...</td>\n",
       "    </tr>\n",
       "    <tr>\n",
       "      <th>295</th>\n",
       "      <td>KTX có máy lạnh cho thuê - Bình Thạnh 45m²</td>\n",
       "      <td>700.000 đ</td>\n",
       "      <td>56 m2</td>\n",
       "      <td></td>\n",
       "      <td>Hôm nay</td>\n",
       "      <td>https://mogi.vn/quan-binh-thanh/thue-phong-tro...</td>\n",
       "      <td>ký túc xá cao cấp quận bình thạnh giá rẻ thuộc...</td>\n",
       "    </tr>\n",
       "    <tr>\n",
       "      <th>296</th>\n",
       "      <td>KTX cao cấp giá 700k/ giường tại 207 ngô tất t...</td>\n",
       "      <td>700.000 đ</td>\n",
       "      <td>45 m2</td>\n",
       "      <td></td>\n",
       "      <td>Hôm nay</td>\n",
       "      <td>https://mogi.vn/quan-binh-thanh/thue-phong-tro...</td>\n",
       "      <td>phòng kí túc xá dành cho người mới đi làm giá ...</td>\n",
       "    </tr>\n",
       "    <tr>\n",
       "      <th>297</th>\n",
       "      <td>Phòng NEW100% FULL nội thất Huỳnh Văn Nghệ Tân...</td>\n",
       "      <td>3 triệu 600 nghìn</td>\n",
       "      <td>30 m2</td>\n",
       "      <td></td>\n",
       "      <td>Hôm nay</td>\n",
       "      <td>https://mogi.vn/quan-tan-binh/thue-phong-tro-k...</td>\n",
       "      <td>Cho thuê phòng mới xây 100% có cửa sổ, ban côn...</td>\n",
       "    </tr>\n",
       "    <tr>\n",
       "      <th>298</th>\n",
       "      <td>Căn Hộ Cao Cấp Máy Giặc Riêng - TÔ HIẾN THÀNH,...</td>\n",
       "      <td>6 triệu 500 nghìn</td>\n",
       "      <td>30 m2</td>\n",
       "      <td></td>\n",
       "      <td>Hôm nay</td>\n",
       "      <td>https://mogi.vn/quan-10/thue-phong-tro-khu-nha...</td>\n",
       "      <td>Địa Chỉ: 451/24 Tô Hiến Thành, Phường 14, Quận...</td>\n",
       "    </tr>\n",
       "    <tr>\n",
       "      <th>299</th>\n",
       "      <td>Phòng 40m2 có ban công cửa sổ thoáng mát gần Đ...</td>\n",
       "      <td>3 triệu 500 nghìn</td>\n",
       "      <td>40 m2</td>\n",
       "      <td></td>\n",
       "      <td>Hôm nay</td>\n",
       "      <td>https://mogi.vn/quan-tan-phu/thue-phong-tro-kh...</td>\n",
       "      <td>🥳🥳Phòng giá rẻ siêu rộng 40m2Ban công , cửa sổ...</td>\n",
       "    </tr>\n",
       "  </tbody>\n",
       "</table>\n",
       "<p>300 rows × 7 columns</p>\n",
       "</div>"
      ],
      "text/plain": [
       "                                                 title              price  \\\n",
       "0    🏢Khai trương Phòng Phú Nhuận Full NT có bồn tắ...            6 triệu   \n",
       "1    🏢Khai trương Siêu phẩm Phòng Tân Bình có bồn t...            6 triệu   \n",
       "2    🏢Khai trương Siêu phẩm Phòng Quận 1 có bồn tắm...            6 triệu   \n",
       "3    🏢Khai trương Siêu phẩm Phòng Quận 11 có bồn tắ...            6 triệu   \n",
       "4    🏢Khai trương Siêu phẩm Phòng Quận 5 có bồn tắm...            6 triệu   \n",
       "..                                                 ...                ...   \n",
       "295         KTX có máy lạnh cho thuê - Bình Thạnh 45m²          700.000 đ   \n",
       "296  KTX cao cấp giá 700k/ giường tại 207 ngô tất t...          700.000 đ   \n",
       "297  Phòng NEW100% FULL nội thất Huỳnh Văn Nghệ Tân...  3 triệu 600 nghìn   \n",
       "298  Căn Hộ Cao Cấp Máy Giặc Riêng - TÔ HIẾN THÀNH,...  6 triệu 500 nghìn   \n",
       "299  Phòng 40m2 có ban công cửa sổ thoáng mát gần Đ...  3 triệu 500 nghìn   \n",
       "\n",
       "    square district datePost  \\\n",
       "0    35 m2           Hôm nay   \n",
       "1    35 m2           Hôm nay   \n",
       "2    35 m2           Hôm nay   \n",
       "3    35 m2           Hôm nay   \n",
       "4    35 m2           Hôm nay   \n",
       "..     ...      ...      ...   \n",
       "295  56 m2           Hôm nay   \n",
       "296  45 m2           Hôm nay   \n",
       "297  30 m2           Hôm nay   \n",
       "298  30 m2           Hôm nay   \n",
       "299  40 m2           Hôm nay   \n",
       "\n",
       "                                       linkDescription  \\\n",
       "0    https://mogi.vn/quan-phu-nhuan/thue-phong-tro-...   \n",
       "1    https://mogi.vn/quan-tan-binh/thue-phong-tro-k...   \n",
       "2    https://mogi.vn/quan-1/thue-phong-tro-khu-nha-...   \n",
       "3    https://mogi.vn/quan-11/thue-phong-tro-khu-nha...   \n",
       "4    https://mogi.vn/quan-5/thue-phong-tro-khu-nha-...   \n",
       "..                                                 ...   \n",
       "295  https://mogi.vn/quan-binh-thanh/thue-phong-tro...   \n",
       "296  https://mogi.vn/quan-binh-thanh/thue-phong-tro...   \n",
       "297  https://mogi.vn/quan-tan-binh/thue-phong-tro-k...   \n",
       "298  https://mogi.vn/quan-10/thue-phong-tro-khu-nha...   \n",
       "299  https://mogi.vn/quan-tan-phu/thue-phong-tro-kh...   \n",
       "\n",
       "                                     detailDescription  \n",
       "0    🏢🏢🏢Khai trương Siêu phẩm Căn hộ đang hot Quận ...  \n",
       "1    🏢🏢🏢Khai trương Siêu phẩm Căn hộ đang hot Quận ...  \n",
       "2    🏢🏢🏢Khai trương Siêu phẩm Căn hộ đang hot Quận ...  \n",
       "3    🏢🏢🏢Khai trương Siêu phẩm Căn hộ đang hot Quận ...  \n",
       "4    🏢🏢🏢Khai trương Siêu phẩm Căn hộ đang hot Quận ...  \n",
       "..                                                 ...  \n",
       "295  ký túc xá cao cấp quận bình thạnh giá rẻ thuộc...  \n",
       "296  phòng kí túc xá dành cho người mới đi làm giá ...  \n",
       "297  Cho thuê phòng mới xây 100% có cửa sổ, ban côn...  \n",
       "298  Địa Chỉ: 451/24 Tô Hiến Thành, Phường 14, Quận...  \n",
       "299  🥳🥳Phòng giá rẻ siêu rộng 40m2Ban công , cửa sổ...  \n",
       "\n",
       "[300 rows x 7 columns]"
      ]
     },
     "execution_count": 23,
     "metadata": {},
     "output_type": "execute_result"
    }
   ],
   "source": [
    "pd.DataFrame(data)"
   ]
  },
  {
   "cell_type": "code",
   "execution_count": 1,
   "metadata": {
    "colab": {
     "base_uri": "https://localhost:8080/"
    },
    "id": "wZAdB_Up0Hx3",
    "outputId": "61bade3e-1c57-4221-e5aa-c110ebd6eb52"
   },
   "outputs": [],
   "source": [
    "\n",
    "# data = dataframe(mogiData,\"mogi.csv\")\n",
    "# pd.set_option('display.max_colwidth',None)\n",
    "# data = pd.DataFrame(data =data)\n",
    "\n",
    "# district =['quan-1','quan-3','quan-5','quan-7']\n",
    "# for i in range(len(data['linkDescription'])):\n",
    "#     for j in district:\n",
    "#         if j in data['linkDescription'].iloc[i]:\n",
    "#             data['district'].iloc[i] = j\n",
    "    \n",
    "# data['datePost'] = data['datePost'].str.replace('Hôm nay','19/03/2021')\n",
    "# data['datePost'] = data['datePost'].str.replace('Hôm qua','18/03/2021')\n",
    "# data.to_csv(\"Mogi.csv\")\n",
    "# data.head()\n"
   ]
  },
  {
   "cell_type": "code",
   "execution_count": null,
   "metadata": {
    "colab": {
     "base_uri": "https://localhost:8080/",
     "height": 197
    },
    "id": "e9XMaUVk1sQz",
    "outputId": "76bfa77d-9a74-498d-fbc1-9cdc5a291216"
   },
   "outputs": [],
   "source": []
  },
  {
   "cell_type": "code",
   "execution_count": null,
   "metadata": {
    "id": "mChjtXhj2ut0"
   },
   "outputs": [],
   "source": []
  },
  {
   "cell_type": "code",
   "execution_count": 22,
   "metadata": {},
   "outputs": [
    {
     "name": "stdout",
     "output_type": "stream",
     "text": [
      "it's okay\n",
      "Cho thuê cao cấp tại : 176/1A Nguyễn Thị Thập, P.Bình thuận, Q7( Xe hơi vào tận cửa)Phòng mới xây, sạch sẽ, thoáng mát, giờ tự do... có gác suốtCách chợ Tân Mỹ, Phú Mỹ Hưng 2 phút, siêu thị Lotte, trường ĐH Tôn Đức Thắng, ĐH Marketing 5 phút.Cho thuê phòng trống, có máy lạnh hoặc có thêm nội thất tùy theo nhu cầu khách hàng.Gía thuê phòng từ 2.2tr không gác và 3tr có gác.\n",
      "Mã tin:#286074Khu vựcCho thuê Phòng trọ Hồ Chí MinhLoại tin rao:Phòng trọ, nhà trọĐối tượng thuê:Tất cảGói tin:Tin thường\n",
      "Liên hệ: thinhminh1212Điện thoại: 0902408086\n",
      "\n",
      "Mọi thông tin trên website chỉ mang tính chất tham khảo. Nếu bạn có phản hồi với tin đăng này (báo xấu, tin đã cho thuê, không liên lạc được,...), vui lòng thông báo để PhòngTrọ123 có thể xử lý. Gửi phản hồi\n",
      "Liên hệ với chúng tôi nếu bạn cần hỗ trợ:Hỗ trợ thanh toánĐiện thoại: 0917686101Zalo: 0917686101Hỗ trợ đăng tinĐiện thoại: 0902657123Zalo: 0902657123Hotline 24/7Điện thoại: 0917686101Zalo: 0917686101Gửi liên hệ\n"
     ]
    }
   ],
   "source": [
    "#         'mogi',# name \n",
    "#         'https://mogi.vn', # url\n",
    "#         'h2.prop-title', # titleTag\n",
    "#         'div.price', #price Tag\n",
    "#         'ul.prop-attr li:first-child', # square \n",
    "#         'div.prop-addr', # district Tag\n",
    "#         'div.prop-created' # datePost,\n",
    "#         'a.link-overlay', #linkDescription,\n",
    "#         'div.info-content-body' # detailDescription       \n",
    "#     [\n",
    "#         'phongtro213',# name \n",
    "#         'https://phongtro123.com/', # url\n",
    "#         'h4.post-title', # titleTag\n",
    "#         'span.post-price', #price Tag\n",
    "#         'span.post-acreage', # square \n",
    "#         'span.post-location', # district Tag\n",
    "#         'time.post-time', # datePost,\n",
    "#         'li.post-item.clearfix.tin-vip a[href]', #linkDescription,\n",
    "#         'div.section-content' # detailDescription         \n",
    "#     ]\n",
    "    \n",
    "    \n",
    "url = \"https://phongtro123.com/tinh-thanh/ho-chi-minh/cho-thue-phong-cao-cap-trung-tam-quan-7.html\"\n",
    "\n",
    "try:\n",
    "    req = requests.get(url)\n",
    "    print(\"it's okay\")\n",
    "    bs = BeautifulSoup(req.text, 'html.parser')\n",
    "except requests.exceptions.RequestException:\n",
    "    print(\"huhu\")\n",
    "for i in bs.select(\"div.section-content\"):\n",
    "    print(i.get_text())\n"
   ]
  },
  {
   "cell_type": "code",
   "execution_count": 318,
   "metadata": {},
   "outputs": [
    {
     "data": {
      "text/plain": [
       "<!DOCTYPE html>\n",
       "\n",
       "<html>\n",
       "<head>\n",
       "<meta charset=\"utf-8\"/>\n",
       "<meta content=\"width=device-width, initial-scale=1, maximum-scale=1.0, user-scalable=0, shrink-to-fit=no\" name=\"viewport\"/>\n",
       "<meta content=\"text/html; charset=utf-8\" http-equiv=\"Content-Type\"/>\n",
       "<meta content=\"text/html;charset=utf-8\" http-equiv=\"Content-type\"/>\n",
       "<meta content=\"vi\" http-equiv=\"content-language\"/>\n",
       "<meta content=\"IE=edge\" http-equiv=\"X-UA-Compatible\"/>\n",
       "<link href=\"/assets/css/app-796288e240ecc2293e00.css\" rel=\"stylesheet\"/>\n",
       "<link href=\"https://s3.prod.now.vn/resources/shopee_font/font.css\" rel=\"stylesheet\"/>\n",
       "<!-- Google Tag Manager -->\n",
       "<script>\n",
       "      (function(w, d, s, l, i) {\n",
       "        w[l] = w[l] || [];\n",
       "        w[l].push({ 'gtm.start': new Date().getTime(), event: 'gtm.js' });\n",
       "        var f = d.getElementsByTagName(s)[0],\n",
       "          j = d.createElement(s),\n",
       "          dl = l != 'dataLayer' ? '&l=' + l : '';\n",
       "        j.async = true;\n",
       "        j.src = 'https://www.googletagmanager.com/gtm.js?id=' + i + dl;\n",
       "        f.parentNode.insertBefore(j, f);\n",
       "      })(window, document, 'script', 'dataLayer', 'GTM-KZSQTX3');\n",
       "    </script>\n",
       "<!-- End Google Tag Manager -->\n",
       "</head>\n",
       "<body class=\"portal\">\n",
       "<!-- Google Tag Manager (noscript) -->\n",
       "<noscript><iframe height=\"0\" src=\"https://www.googletagmanager.com/ns.html?id=GTM-KZSQTX3\" style=\"display:none;visibility:hidden\" width=\"0\"></iframe></noscript>\n",
       "<!-- End Google Tag Manager (noscript) -->\n",
       "<div id=\"app\"></div>\n",
       "<div id=\"modal\"></div>\n",
       "<script src=\"https://cdnjs.cloudflare.com/ajax/libs/jquery/3.2.1/jquery.min.js\"></script>\n",
       "<script>!function(e){var a=window.webpackJsonp;window.webpackJsonp=function(c,b,n){for(var r,t,o,u=0,i=[];u<c.length;u++)t=c[u],d[t]&&i.push(d[t][0]),d[t]=0;for(r in b)Object.prototype.hasOwnProperty.call(b,r)&&(e[r]=b[r]);for(a&&a(c,b,n);i.length;)i.shift()();if(n)for(u=0;u<n.length;u++)o=f(f.s=n[u]);return o};var c={},d={59:0};function f(a){if(c[a])return c[a].exports;var d=c[a]={i:a,l:!1,exports:{}};return e[a].call(d.exports,d,d.exports,f),d.l=!0,d.exports}f.e=function(e){var a=d[e];if(0===a)return new Promise(function(e){e()});if(a)return a[2];var c=new Promise(function(c,f){a=d[e]=[c,f]});a[2]=c;var b=document.getElementsByTagName(\"head\")[0],n=document.createElement(\"script\");n.type=\"text/javascript\",n.charset=\"utf-8\",n.async=!0,n.timeout=12e4,f.nc&&n.setAttribute(\"nonce\",f.nc),n.src=f.p+\"app/assets/js/\"+({}[e]||e)+\"-\"+{0:\"79498efdcf31aade6278\",1:\"071be7a809d2e005c3ce\",2:\"33db9dee8df4104b46c4\",3:\"b802de7e9ef32c4fb6f2\",4:\"698d6b22b607e33d0a8c\",5:\"19dcb727678303274894\",6:\"193ee5835971df2fe61a\",7:\"539d3de4e38261e389d1\",8:\"e33108d2a8aafc2ebf08\",9:\"75b2b33c41e39809ba7b\",10:\"9bff48d16dedbf566d36\",11:\"d1b77e84da27d0ba5266\",12:\"e138375daaa1cce59b83\",13:\"c9fc4a09cdcf83aea125\",14:\"33eac985873a80b183a3\",15:\"9328d7445a96e0a7ee65\",16:\"2d6abc5a6d87d6322257\",17:\"c7d3e8056fc421d2b833\",18:\"88f1d36ee094e5f73e73\",19:\"d5f68a548877dc314a20\",20:\"4b781647829b7b07a3f2\",21:\"2569b75e42237f83b9f0\",22:\"5b8c3d655651117debcf\",23:\"f8f3d6a04d3871ddc4a0\",24:\"c99be84cebae31a4965b\",25:\"1bb91017c5baa827c06a\",26:\"488e9a04e1cc87d7717d\",27:\"6fea5a3d1e4b25f9c243\",28:\"2d5b787bf74a55b93a11\",29:\"74fab7b3bf63bcd5edc1\",30:\"d18d5b62901477711023\",31:\"b18f191ad7d49278497c\",32:\"d53e48aa2c23388167ca\",33:\"297d130c1e8b5121fa3c\",34:\"86fc1d167cf37b0d4db0\",35:\"f4e38bb9f2bebdaf90ab\",36:\"77fb4e138e1ba4140109\",37:\"1839f9f0dcd0f63f0f25\",38:\"797843d18f3a33657b8e\",39:\"5849dda2fb276ad49231\",40:\"80460dd9b6c57cdaa7b8\",41:\"28a4f8f2c40e789c7c6f\",42:\"1870986fb3458df22db5\",43:\"7a155a16ab7ea75f1846\",44:\"f3bb818dd8824040b87d\",45:\"cfb93e145e0c0bda8ed2\",46:\"7683c294392f5feb3e01\",47:\"20f61fea7303cb4dcf72\",48:\"07a11ca870ace020d0fe\",49:\"80e198fc84bac177b900\",50:\"f472274dc63c5c097b27\",51:\"3a6cc28f63054bd2cf6c\",52:\"d2141a1cd10b34041c30\",53:\"d4d30168ba5f813e2f52\",54:\"e199a770ad5d30ba8683\",55:\"00261dd0388cbbae7246\",56:\"2d70252b6729eb876b99\"}[e]+\".js\";var r=setTimeout(t,12e4);function t(){n.onerror=n.onload=null,clearTimeout(r);var a=d[e];0!==a&&(a&&a[1](new Error(\"Loading chunk \"+e+\" failed.\")),d[e]=void 0)}return n.onerror=n.onload=t,b.appendChild(n),c},f.m=e,f.c=c,f.d=function(e,a,c){f.o(e,a)||Object.defineProperty(e,a,{configurable:!1,enumerable:!0,get:c})},f.n=function(e){var a=e&&e.__esModule?function(){return e.default}:function(){return e};return f.d(a,\"a\",a),a},f.o=function(e,a){return Object.prototype.hasOwnProperty.call(e,a)},f.p=\"/\",f.oe=function(e){throw console.error(e),e}}([]);\n",
       "</script>\n",
       "<script defer=\"\" src=\"/app/assets/js/vendor-d87ce164c0fde8288192.js\"></script>\n",
       "<script defer=\"\" src=\"/app/assets/js/app-ed693f29830ef2a6c935.js\"></script>\n",
       "</body>\n",
       "</html>"
      ]
     },
     "execution_count": 318,
     "metadata": {},
     "output_type": "execute_result"
    }
   ],
   "source": [
    "bs"
   ]
  },
  {
   "cell_type": "code",
   "execution_count": null,
   "metadata": {},
   "outputs": [],
   "source": []
  }
 ],
 "metadata": {
  "colab": {
   "name": "Collect_Data_For_Apartment.ipynb",
   "provenance": []
  },
  "kernelspec": {
   "display_name": "Python 3",
   "language": "python",
   "name": "python3"
  },
  "language_info": {
   "codemirror_mode": {
    "name": "ipython",
    "version": 3
   },
   "file_extension": ".py",
   "mimetype": "text/x-python",
   "name": "python",
   "nbconvert_exporter": "python",
   "pygments_lexer": "ipython3",
   "version": "3.8.5"
  }
 },
 "nbformat": 4,
 "nbformat_minor": 1
}
